{
 "cells": [
  {
   "metadata": {},
   "cell_type": "code",
   "outputs": [],
   "execution_count": null,
   "source": "import numpy as np",
   "id": "58409067f378a054"
  },
  {
   "metadata": {
    "ExecuteTime": {
     "end_time": "2024-10-13T15:43:49.878136Z",
     "start_time": "2024-10-13T15:43:49.874071Z"
    }
   },
   "cell_type": "code",
   "source": [
    "A = [0,3,2,5]\n",
    "B = [0,3,1,4]"
   ],
   "id": "53fa610df8ef5e6c",
   "outputs": [],
   "execution_count": 2
  },
  {
   "metadata": {
    "ExecuteTime": {
     "end_time": "2024-10-13T15:43:59.788742Z",
     "start_time": "2024-10-13T15:43:59.783996Z"
    }
   },
   "cell_type": "code",
   "source": [
    "# Dodwania wektorów za pomocą numpy\n",
    "numpy_add = np.add(A,B)\n",
    "print(f\"Wynik dodania A i B: {numpy_add}\")"
   ],
   "id": "79166230ce68f6e",
   "outputs": [
    {
     "name": "stdout",
     "output_type": "stream",
     "text": [
      "[0 6 3 9]\n"
     ]
    }
   ],
   "execution_count": 5
  },
  {
   "metadata": {
    "ExecuteTime": {
     "end_time": "2024-10-13T15:51:08.625508Z",
     "start_time": "2024-10-13T15:51:08.620809Z"
    }
   },
   "cell_type": "code",
   "source": [
    "# Odejmowanie wektorów za pomocą numpy\n",
    "numpy_subtract = np.subtract(A,B)\n",
    "print(F\"Wynik odejmowania B od A: {numpy_subtract}\")"
   ],
   "id": "ed8885c9150747f4",
   "outputs": [
    {
     "name": "stdout",
     "output_type": "stream",
     "text": [
      "Wynik odejmowania B od A: [0 0 1 1]\n"
     ]
    }
   ],
   "execution_count": 10
  },
  {
   "metadata": {
    "ExecuteTime": {
     "end_time": "2024-10-13T15:46:30.722225Z",
     "start_time": "2024-10-13T15:46:30.717906Z"
    }
   },
   "cell_type": "code",
   "source": [
    "# Mnożenie wektorów za pomocą numpy\n",
    "numpy_A_4_multiply = np.multiply(A,4)\n",
    "print(f\"Wynik mnożenia wektora A przez skalar a=4: {numpy_A_4_multiply}\")"
   ],
   "id": "b8a822f177d8cdcc",
   "outputs": [
    {
     "name": "stdout",
     "output_type": "stream",
     "text": [
      "[ 0 12  8 20]\n"
     ]
    }
   ],
   "execution_count": 7
  },
  {
   "metadata": {
    "ExecuteTime": {
     "end_time": "2024-10-13T15:47:38.485116Z",
     "start_time": "2024-10-13T15:47:38.480427Z"
    }
   },
   "cell_type": "code",
   "source": [
    "# Iloczyn skalarny wektorów A i B\n",
    "scalar_A_B = np.dot(A,B)\n",
    "print(f\"Wynik iloczynu skalarnego A i B: {scalar_A_B}\")"
   ],
   "id": "b2c1b84d9d2257ff",
   "outputs": [
    {
     "name": "stdout",
     "output_type": "stream",
     "text": [
      "31\n"
     ]
    }
   ],
   "execution_count": 8
  },
  {
   "metadata": {
    "ExecuteTime": {
     "end_time": "2024-10-13T15:49:48.592383Z",
     "start_time": "2024-10-13T15:49:48.587990Z"
    }
   },
   "cell_type": "code",
   "source": [
    "# Długość wektora B w przestrzeni\n",
    "length_b = np.linalg.norm(B)\n",
    "print(f\"Wynik długości wektora B w przestrzeni: {length_b}\")"
   ],
   "id": "5dc602202edde235",
   "outputs": [
    {
     "name": "stdout",
     "output_type": "stream",
     "text": [
      "5.0990195135927845\n"
     ]
    }
   ],
   "execution_count": 9
  }
 ],
 "metadata": {
  "kernelspec": {
   "display_name": "Python 3",
   "language": "python",
   "name": "python3"
  },
  "language_info": {
   "codemirror_mode": {
    "name": "ipython",
    "version": 2
   },
   "file_extension": ".py",
   "mimetype": "text/x-python",
   "name": "python",
   "nbconvert_exporter": "python",
   "pygments_lexer": "ipython2",
   "version": "2.7.6"
  }
 },
 "nbformat": 4,
 "nbformat_minor": 5
}
