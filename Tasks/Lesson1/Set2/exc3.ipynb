{
 "cells": [
  {
   "cell_type": "code",
   "id": "initial_id",
   "metadata": {
    "collapsed": true,
    "ExecuteTime": {
     "end_time": "2024-10-13T11:07:06.445049Z",
     "start_time": "2024-10-13T11:07:06.438785Z"
    }
   },
   "source": [
    "import pandas as pd\n",
    "import numpy as np"
   ],
   "outputs": [],
   "execution_count": 1
  },
  {
   "metadata": {},
   "cell_type": "code",
   "source": [
    "rainfall = pd.read_csv('Data/Seattle2014.csv')['PRCP'].values\n",
    "inches = rainfall / 254.0  # 1/10mm -> inches\n",
    "inches.shape\n",
    "print(inches)"
   ],
   "id": "79dfee1d012147e8",
   "outputs": [],
   "execution_count": null
  },
  {
   "metadata": {},
   "cell_type": "code",
   "source": [
    "# %matplotlib inline\n",
    "import matplotlib.pyplot as plt\n",
    "import seaborn; seaborn.set()  # set plot styles\n",
    "plt.hist(inches, 40);"
   ],
   "id": "4d01238436940966",
   "outputs": [],
   "execution_count": null
  },
  {
   "metadata": {},
   "cell_type": "code",
   "source": [
    "days_without_rain = (inches == 0).sum()\n",
    "print(f\"Number days without rain: {days_without_rain}\")"
   ],
   "id": "e5b2bbd2af0abf1",
   "outputs": [],
   "execution_count": null
  },
  {
   "metadata": {},
   "cell_type": "code",
   "source": [
    "days_with_rain = (inches != 0).sum()\n",
    "print(f\"Number days with rain: {days_with_rain}\")"
   ],
   "id": "e27cc865b6c5b702",
   "outputs": [],
   "execution_count": null
  },
  {
   "metadata": {},
   "cell_type": "code",
   "source": [
    "days_with_more_05_inches = (inches > 0.5).sum()\n",
    "print(f\"Days with more than 0.5 inches: {days_with_more_05_inches}\")"
   ],
   "id": "f84980962df1f4ce",
   "outputs": [],
   "execution_count": null
  },
  {
   "metadata": {},
   "cell_type": "code",
   "source": [
    "rainy_with_less_02 = ((inches != 0) & (inches < 0.2)).sum()\n",
    "print(f\"Rainy days with < 0.2 inches : {rainy_with_less_02}\")"
   ],
   "id": "ef1b84084d31194f",
   "outputs": [],
   "execution_count": null
  },
  {
   "metadata": {},
   "cell_type": "markdown",
   "source": "Zadanie - dalszy ciąg",
   "id": "4ac3b7d79365aa1e"
  },
  {
   "metadata": {
    "ExecuteTime": {
     "end_time": "2024-10-13T11:07:11.184716Z",
     "start_time": "2024-10-13T11:07:11.171636Z"
    }
   },
   "cell_type": "code",
   "source": "seattle_data = pd.read_csv('Data/Seattle2014.csv')",
   "id": "4bc0c30927c71443",
   "outputs": [],
   "execution_count": 2
  },
  {
   "metadata": {},
   "cell_type": "code",
   "source": "print(seattle_data)",
   "id": "1c58f52ff61c3747",
   "outputs": [],
   "execution_count": null
  },
  {
   "metadata": {
    "ExecuteTime": {
     "end_time": "2024-10-13T11:08:46.824455Z",
     "start_time": "2024-10-13T11:08:46.819518Z"
    }
   },
   "cell_type": "code",
   "source": "seattle_data['PRCP'] = seattle_data['PRCP'] / 254.0  # 1/10mm -> inches",
   "id": "ec3f1a3374b77b9b",
   "outputs": [],
   "execution_count": 6
  },
  {
   "metadata": {
    "ExecuteTime": {
     "end_time": "2024-10-13T11:08:50.119643Z",
     "start_time": "2024-10-13T11:08:50.112679Z"
    }
   },
   "cell_type": "code",
   "source": "seattle_data['DATE'] = pd.to_datetime(seattle_data['DATE'], format=\"%Y%m%d\")",
   "id": "e1c39171021122dc",
   "outputs": [],
   "execution_count": 7
  },
  {
   "metadata": {},
   "cell_type": "code",
   "source": "print(seattle_data)",
   "id": "8027ab105fa17238",
   "outputs": [],
   "execution_count": null
  },
  {
   "metadata": {
    "ExecuteTime": {
     "end_time": "2024-10-13T11:13:46.630858Z",
     "start_time": "2024-10-13T11:13:46.597106Z"
    }
   },
   "cell_type": "code",
   "source": "seattle_data_2014 = seattle_data[seattle_data['DATE'].dt.year == 2014]",
   "id": "f8ec3da1c2bd80ce",
   "outputs": [],
   "execution_count": 11
  },
  {
   "metadata": {},
   "cell_type": "code",
   "source": "print(seattle_data_2014)",
   "id": "c6401ce9300f9be4",
   "outputs": [],
   "execution_count": null
  },
  {
   "metadata": {},
   "cell_type": "code",
   "source": [
    "rainy_days = seattle_data_2014[seattle_data_2014['PRCP'] != 0]\n",
    "print(rainy_days)"
   ],
   "id": "a8498981a8ac6ed4",
   "outputs": [],
   "execution_count": null
  },
  {
   "metadata": {
    "ExecuteTime": {
     "end_time": "2024-10-13T11:08:59.263158Z",
     "start_time": "2024-10-13T11:08:59.255970Z"
    }
   },
   "cell_type": "code",
   "source": [
    "rainy_days_median = np.median(rainy_days['PRCP'])\n",
    "print(f\"Median precip on rainy days in 2014 (inches): {rainy_days_median}\")"
   ],
   "id": "407da2357eeac33a",
   "outputs": [
    {
     "name": "stdout",
     "output_type": "stream",
     "text": [
      "Median precip on rainy days in 2014 (inches): 0.19488188976377951\n"
     ]
    }
   ],
   "execution_count": 10
  },
  {
   "metadata": {},
   "cell_type": "code",
   "source": [
    "no_rainy_days = seattle_data_2014[seattle_data_2014['PRCP'] != 0]\n",
    "# print(\"Median precip on non-summer rainy days (inches):\")"
   ],
   "id": "d9dbb93026f75798",
   "outputs": [],
   "execution_count": null
  },
  {
   "metadata": {},
   "cell_type": "code",
   "outputs": [],
   "execution_count": null,
   "source": "print(rainy_days)",
   "id": "b978ae4d94b65ed8"
  },
  {
   "metadata": {},
   "cell_type": "code",
   "source": [
    "# 22.06\n",
    "# 22.09\n",
    "summer_start_date = pd.to_datetime('2014-06-22')\n",
    "summer_end_date = pd.to_datetime('2014-09-22')\n",
    "summer_days_2014 = seattle_data_2014[((seattle_data_2014['DATE'] >= summer_start_date) \n",
    "                                      & (seattle_data_2014['DATE'] < summer_end_date))]"
   ],
   "id": "11cce3396897ecd",
   "outputs": [],
   "execution_count": null
  },
  {
   "metadata": {},
   "cell_type": "code",
   "outputs": [],
   "execution_count": null,
   "source": "print(summer_days_2014)",
   "id": "a7c48820efedd829"
  },
  {
   "metadata": {
    "ExecuteTime": {
     "end_time": "2024-10-13T11:27:17.681399Z",
     "start_time": "2024-10-13T11:27:17.675955Z"
    }
   },
   "cell_type": "code",
   "source": "print(f\"Median precip on summer days in 2014 (inches):  {np.median(summer_days_2014['PRCP'])}\")\n",
   "id": "d7acd617b1f52916",
   "outputs": [
    {
     "name": "stdout",
     "output_type": "stream",
     "text": [
      "Median precip on summer days in 2014 (inches):  0.0\n"
     ]
    }
   ],
   "execution_count": 18
  },
  {
   "metadata": {
    "ExecuteTime": {
     "end_time": "2024-10-13T11:27:28.120217Z",
     "start_time": "2024-10-13T11:27:28.114780Z"
    }
   },
   "cell_type": "code",
   "source": "print(f\"Maximum precip on summer days in 2014 (inches): {summer_days_2014['PRCP'].max()}\")",
   "id": "68c4872fd899809f",
   "outputs": [
    {
     "name": "stdout",
     "output_type": "stream",
     "text": [
      "Maximum precip on summer days in 2014 (inches): 0.8503937007874016\n"
     ]
    }
   ],
   "execution_count": 20
  },
  {
   "metadata": {
    "ExecuteTime": {
     "end_time": "2024-10-13T11:31:19.632670Z",
     "start_time": "2024-10-13T11:31:19.627Z"
    }
   },
   "cell_type": "code",
   "source": [
    "non_summer_days = seattle_data_2014[((seattle_data_2014['DATE'] < summer_start_date) \n",
    "                                      | (seattle_data_2014['DATE'] > summer_end_date))]"
   ],
   "id": "85d1902a240a6cca",
   "outputs": [],
   "execution_count": 23
  },
  {
   "metadata": {
    "ExecuteTime": {
     "end_time": "2024-10-13T11:31:20.716781Z",
     "start_time": "2024-10-13T11:31:20.710547Z"
    }
   },
   "cell_type": "code",
   "source": "print(f\"Median precip on non-summer rainy days (inches): {np.median(non_summer_days['PRCP'])}\")",
   "id": "4f926713c0ff4418",
   "outputs": [
    {
     "name": "stdout",
     "output_type": "stream",
     "text": [
      "Median precip on non-summer rainy days (inches): 0.0\n"
     ]
    }
   ],
   "execution_count": 24
  }
 ],
 "metadata": {
  "kernelspec": {
   "display_name": "Python 3",
   "language": "python",
   "name": "python3"
  },
  "language_info": {
   "codemirror_mode": {
    "name": "ipython",
    "version": 2
   },
   "file_extension": ".py",
   "mimetype": "text/x-python",
   "name": "python",
   "nbconvert_exporter": "python",
   "pygments_lexer": "ipython2",
   "version": "2.7.6"
  }
 },
 "nbformat": 4,
 "nbformat_minor": 5
}
