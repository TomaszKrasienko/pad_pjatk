{
 "cells": [
  {
   "cell_type": "code",
   "id": "initial_id",
   "metadata": {
    "collapsed": true,
    "ExecuteTime": {
     "end_time": "2024-10-13T10:36:14.849839Z",
     "start_time": "2024-10-13T10:36:14.845480Z"
    }
   },
   "source": [
    "import pandas as pd\n",
    "import numpy as np"
   ],
   "outputs": [],
   "execution_count": 12
  },
  {
   "metadata": {
    "ExecuteTime": {
     "end_time": "2024-10-13T10:36:16.146901Z",
     "start_time": "2024-10-13T10:36:16.138597Z"
    }
   },
   "cell_type": "code",
   "source": [
    "# Pobranie pliku przez pandas (alias pd)\n",
    "data = pd.read_csv('Data/president_heights.csv')\n",
    "# Do array'a pobranie danych jedynie z kolumny height\n",
    "heights = np.array(data['height(cm)'])\n",
    "print(heights)"
   ],
   "id": "bef34143487d46e",
   "outputs": [
    {
     "name": "stdout",
     "output_type": "stream",
     "text": [
      "[189 170 189 163 183 171 185 168 173 183 173 173 175 178 183 193 178 173\n",
      " 174 183 183 168 170 178 182 180 183 178 182 188 175 179 183 193 182 183\n",
      " 177 185 188 188 182 185]\n"
     ]
    }
   ],
   "execution_count": 13
  },
  {
   "metadata": {
    "ExecuteTime": {
     "end_time": "2024-10-13T10:36:17.558599Z",
     "start_time": "2024-10-13T10:36:17.553524Z"
    }
   },
   "cell_type": "code",
   "source": [
    "# Średnia\n",
    "mean = np.mean(heights)\n",
    "print(f\"Średnia: {mean}\")"
   ],
   "id": "cbb0e33cea9092b5",
   "outputs": [
    {
     "name": "stdout",
     "output_type": "stream",
     "text": [
      "Średnia: 179.73809523809524\n"
     ]
    }
   ],
   "execution_count": 14
  },
  {
   "metadata": {
    "ExecuteTime": {
     "end_time": "2024-10-13T10:36:19.396913Z",
     "start_time": "2024-10-13T10:36:19.391303Z"
    }
   },
   "cell_type": "code",
   "source": [
    "# Odchylenie standardowe\n",
    "std_dev = np.std(heights)\n",
    "print(f\"Odchylenie standardowe: {std_dev}\")"
   ],
   "id": "501d97abec854794",
   "outputs": [
    {
     "name": "stdout",
     "output_type": "stream",
     "text": [
      "Odchylenie standardowe: 6.931843442745892\n"
     ]
    }
   ],
   "execution_count": 15
  },
  {
   "metadata": {
    "ExecuteTime": {
     "end_time": "2024-10-13T10:36:20.994111Z",
     "start_time": "2024-10-13T10:36:20.989299Z"
    }
   },
   "cell_type": "code",
   "source": [
    "# Minimum\n",
    "min_value = np.min(heights)\n",
    "print(f\"Minimum: {min_value}\")"
   ],
   "id": "eaf9d8ec95e2b85f",
   "outputs": [
    {
     "name": "stdout",
     "output_type": "stream",
     "text": [
      "Minimum: 163\n"
     ]
    }
   ],
   "execution_count": 16
  },
  {
   "metadata": {
    "ExecuteTime": {
     "end_time": "2024-10-13T10:36:22.612778Z",
     "start_time": "2024-10-13T10:36:22.607786Z"
    }
   },
   "cell_type": "code",
   "source": [
    "# Maksimum\n",
    "max_value = np.max(heights)\n",
    "print(f\"Maksimum: {max_value}\")"
   ],
   "id": "507a5f8adf433b8d",
   "outputs": [
    {
     "name": "stdout",
     "output_type": "stream",
     "text": [
      "Maksimum: 193\n"
     ]
    }
   ],
   "execution_count": 17
  },
  {
   "metadata": {},
   "cell_type": "code",
   "outputs": [],
   "execution_count": null,
   "source": [
    "# 25. percentyl (kwantyl)\n",
    "quantile_25 = np.percentile(heights, 25)\n",
    "print(f\"25. kwantyl: {quantile_25}\")"
   ],
   "id": "2c2ee610ebc1ce63"
  },
  {
   "metadata": {
    "ExecuteTime": {
     "end_time": "2024-10-13T10:36:28.726139Z",
     "start_time": "2024-10-13T10:36:28.720787Z"
    }
   },
   "cell_type": "code",
   "source": [
    "# 75. percentyl (kwantyl)\n",
    "quantile_75 = np.percentile(heights, 75)\n",
    "print(f\"75. kwantyl: {quantile_75}\")"
   ],
   "id": "c095ea96affe8e0",
   "outputs": [
    {
     "name": "stdout",
     "output_type": "stream",
     "text": [
      "75. kwantyl: 183.0\n"
     ]
    }
   ],
   "execution_count": 18
  },
  {
   "metadata": {
    "ExecuteTime": {
     "end_time": "2024-10-13T10:36:29.819845Z",
     "start_time": "2024-10-13T10:36:29.813185Z"
    }
   },
   "cell_type": "code",
   "source": [
    "# Mediana\n",
    "median = np.median(heights)\n",
    "print(f\"Mediana: {median}\")"
   ],
   "id": "7a9644be29dfc3cd",
   "outputs": [
    {
     "name": "stdout",
     "output_type": "stream",
     "text": [
      "Mediana: 182.0\n"
     ]
    }
   ],
   "execution_count": 19
  }
 ],
 "metadata": {
  "kernelspec": {
   "display_name": "Python 3",
   "language": "python",
   "name": "python3"
  },
  "language_info": {
   "codemirror_mode": {
    "name": "ipython",
    "version": 2
   },
   "file_extension": ".py",
   "mimetype": "text/x-python",
   "name": "python",
   "nbconvert_exporter": "python",
   "pygments_lexer": "ipython2",
   "version": "2.7.6"
  }
 },
 "nbformat": 4,
 "nbformat_minor": 5
}
